{
 "cells": [
  {
   "cell_type": "code",
   "execution_count": 39,
   "metadata": {
    "collapsed": false
   },
   "outputs": [],
   "source": [
    "f = Finnpipette(5,50)"
   ]
  },
  {
   "cell_type": "code",
   "execution_count": null,
   "metadata": {
    "collapsed": true
   },
   "outputs": [],
   "source": []
  },
  {
   "cell_type": "code",
   "execution_count": 63,
   "metadata": {
    "collapsed": true
   },
   "outputs": [],
   "source": [
    "f.off()"
   ]
  },
  {
   "cell_type": "code",
   "execution_count": 62,
   "metadata": {
    "collapsed": false
   },
   "outputs": [],
   "source": [
    "f.trigger()"
   ]
  },
  {
   "cell_type": "code",
   "execution_count": 25,
   "metadata": {
    "collapsed": false
   },
   "outputs": [
    {
     "ename": "KeyboardInterrupt",
     "evalue": "",
     "output_type": "error",
     "traceback": [
      "\u001b[0;31m---------------------------------------------------------------------------\u001b[0m",
      "\u001b[0;31mKeyboardInterrupt\u001b[0m                         Traceback (most recent call last)",
      "\u001b[0;32m<ipython-input-25-58a304b85433>\u001b[0m in \u001b[0;36m<module>\u001b[0;34m()\u001b[0m\n\u001b[1;32m      1\u001b[0m \u001b[0;32mfor\u001b[0m \u001b[0mi\u001b[0m \u001b[0;32min\u001b[0m \u001b[0mrange\u001b[0m\u001b[0;34m(\u001b[0m\u001b[0;36m1000\u001b[0m\u001b[0;34m)\u001b[0m\u001b[0;34m:\u001b[0m\u001b[0;34m\u001b[0m\u001b[0m\n\u001b[0;32m----> 2\u001b[0;31m     \u001b[0mt\u001b[0m\u001b[0;34m.\u001b[0m\u001b[0msleep\u001b[0m\u001b[0;34m(\u001b[0m\u001b[0;36m10\u001b[0m\u001b[0;34m)\u001b[0m\u001b[0;34m\u001b[0m\u001b[0m\n\u001b[0m\u001b[1;32m      3\u001b[0m     \u001b[0mf\u001b[0m\u001b[0;34m.\u001b[0m\u001b[0mright\u001b[0m\u001b[0;34m(\u001b[0m\u001b[0;34m)\u001b[0m\u001b[0;34m\u001b[0m\u001b[0m\n",
      "\u001b[0;31mKeyboardInterrupt\u001b[0m: "
     ]
    }
   ],
   "source": [
    "for i in range(1000):\n",
    "    t.sleep(10)\n",
    "    f.right()"
   ]
  },
  {
   "cell_type": "code",
   "execution_count": 64,
   "metadata": {
    "collapsed": true
   },
   "outputs": [],
   "source": [
    "f.exit()"
   ]
  },
  {
   "cell_type": "markdown",
   "metadata": {},
   "source": [
    "# Finpipette Class"
   ]
  },
  {
   "cell_type": "code",
   "execution_count": 1,
   "metadata": {
    "collapsed": true
   },
   "outputs": [],
   "source": [
    "import serial as s\n",
    "import time as t\n",
    "\n",
    "class Finnpipette():\n",
    "\n",
    "    def __init__(self, min_volume=5, max_volume=50):\n",
    "        self.serial = s.Serial(port='/dev/cu.usbmodem1411', baudrate=9600)\n",
    "        self.terminator = '\\n'\n",
    "        self.min_volume = min_volume\n",
    "        self.max_volume = max_volume\n",
    "        self.precision = 0.1 # ul\n",
    "        self.volume = self.max_volume\n",
    "        self.speeds = {\n",
    "            'aspirate': 9,\n",
    "            'dispense': 9\n",
    "        }  \n",
    "\n",
    "\n",
    "        self.init()\n",
    "\n",
    "    def init(self):\n",
    "        t.sleep(2.5)\n",
    "        self.on()\n",
    "        t.sleep(1)\n",
    "        self.trigger()\n",
    "        t.sleep(1)\n",
    "        self.home(True)\n",
    "        self.state = 0 # 0==dispensed, 1==aspirated\n",
    "\n",
    "    def cmd(self, cmd_string, block=True):\n",
    "        cmd_string = cmd_string + self.terminator\n",
    "        self.serial.write(cmd_string)\n",
    "        \n",
    "        # wait for response\n",
    "        while self.serial.inWaiting()==0:\n",
    "            pass\n",
    "        t.sleep(0.8)\n",
    "\n",
    "        return self.serial.read(self.serial.inWaiting())\n",
    "\n",
    "    def on(self):\n",
    "        self.cmd('i')\n",
    "    def off(self):\n",
    "        self.cmd('o')\n",
    "    \n",
    "    def exit(self):\n",
    "        self.off()\n",
    "        self.serial.close()\n",
    "\n",
    "    def home(self, hard_home=False):\n",
    "        # self.cmd('Z')\n",
    "        if hard_home:\n",
    "            self.up(self.max_volume)\n",
    "        else:\n",
    "            self.up(self.max_volume - self.volume + 4)\n",
    "        self.right()\n",
    "        self.volume = self.max_volume\n",
    "\n",
    "\n",
    "    def down(self, d_vol=-1):\n",
    "        if d_vol < 0:\n",
    "            self.cmd('d')\n",
    "            self.volume -= self.precision\n",
    "        else:\n",
    "            self.cmd('D,{}'.format(d_vol))\n",
    "            self.volume -= (self.precision + d_vol)\n",
    "\n",
    "    def up(self, d_vol=-1):\n",
    "        if d_vol < 0:\n",
    "            self.cmd('u')\n",
    "            self.volume += self.precision\n",
    "        else:\n",
    "            self.cmd('U,{}'.format(d_vol))\n",
    "            self.volume += (self.precision + d_vol)\n",
    "            \n",
    "\n",
    "    def right(self):\n",
    "        self.cmd('r')\n",
    "\n",
    "    def trigger(self):\n",
    "        self.cmd('t')\n",
    "\n",
    "    # TODO: consider minimum case\n",
    "    def set_volume(self, volume):\n",
    "        volume = round(volume, 1)\n",
    "        if volume == self.volume:\n",
    "            pass\n",
    "        else:\n",
    "            self.home()\n",
    "            d_vol = self.max_volume - volume\n",
    "\n",
    "            if d_vol < 1:\n",
    "                n = round(int(d_vol/self.precision), 1)\n",
    "                for i in xrange(n):\n",
    "                    self.down()\n",
    "            else:\n",
    "                self.down(d_vol)\n",
    "                self.up()\n",
    "\n",
    "            self.right()\n",
    "\n",
    "    def asp_disp(self, volume = None, rate = 1.0):\n",
    "        if volume == None:\n",
    "            volume = self.volume\n",
    "        self.set_volume(volume)\n",
    "        self.trigger()\n",
    "        self.state = (self.state + 1)%2\n",
    "\n",
    "\n",
    "    def set_speed(self, **kwargs):\n",
    "        \"\"\"\n",
    "        Set the speed (mm/minute) the :any:`Pipette` plunger will move\n",
    "        during :meth:`aspirate` and :meth:`dispense`\n",
    "\n",
    "        Parameters\n",
    "        ----------\n",
    "        kwargs: Dict\n",
    "            A dictionary who's keys are either \"aspirate\" or \"dispense\",\n",
    "            and who's values are int or float (Example: `{\"aspirate\": 300}`)\n",
    "        \"\"\"\n",
    "        keys = {'aspirate', 'dispense'} & kwargs.keys()\n",
    "        for key in keys:\n",
    "            self.speeds[key] = kwargs.get(key)\n",
    "        return self"
   ]
  }
 ],
 "metadata": {
  "kernelspec": {
   "display_name": "Python 2",
   "language": "python",
   "name": "python2"
  },
  "language_info": {
   "codemirror_mode": {
    "name": "ipython",
    "version": 2
   },
   "file_extension": ".py",
   "mimetype": "text/x-python",
   "name": "python",
   "nbconvert_exporter": "python",
   "pygments_lexer": "ipython2",
   "version": "2.7.12"
  }
 },
 "nbformat": 4,
 "nbformat_minor": 2
}
